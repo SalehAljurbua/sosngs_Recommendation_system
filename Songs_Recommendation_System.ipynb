{
  "nbformat": 4,
  "nbformat_minor": 0,
  "metadata": {
    "colab": {
      "name": "Songs_Recommendation_System.ipynb",
      "provenance": [],
      "collapsed_sections": []
    },
    "kernelspec": {
      "display_name": "Python 3",
      "name": "python3"
    }
  },
  "cells": [
    {
      "cell_type": "code",
      "metadata": {
        "id": "RF9N3Y4O_Fvj",
        "colab": {
          "base_uri": "https://localhost:8080/"
        },
        "outputId": "c9f6138c-14bf-4762-d264-66e058e342d5"
      },
      "source": [
        "import numpy as np\r\n",
        "import pandas as pd\r\n",
        "import math\r\n",
        "import json\r\n",
        "import time\r\n",
        "import matplotlib.pyplot as plt\r\n",
        "import seaborn as sns\r\n",
        "from sklearn.metrics.pairwise import cosine_similarity\r\n",
        "from sklearn.model_selection import train_test_split\r\n",
        "from sklearn.neighbors import NearestNeighbors\r\n",
        "from sklearn.externals import joblib\r\n",
        "import scipy.sparse\r\n",
        "from scipy.sparse import csr_matrix\r\n",
        "import warnings; warnings.simplefilter('ignore')\r\n",
        "%matplotlib inline\r\n",
        "from scipy.stats import skew, norm, probplot"
      ],
      "execution_count": null,
      "outputs": [
        {
          "output_type": "stream",
          "text": [
            "/usr/local/lib/python3.6/dist-packages/sklearn/externals/joblib/__init__.py:15: FutureWarning: sklearn.externals.joblib is deprecated in 0.21 and will be removed in 0.23. Please import this functionality directly from joblib, which can be installed with: pip install joblib. If this warning is raised when loading pickled models, you may need to re-serialize those models with scikit-learn 0.21+.\n",
            "  warnings.warn(msg, category=FutureWarning)\n"
          ],
          "name": "stderr"
        }
      ]
    },
    {
      "cell_type": "code",
      "metadata": {
        "colab": {
          "resources": {
            "http://localhost:8080/nbextensions/google.colab/files.js": {
              "data": "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",
              "ok": true,
              "headers": [
                [
                  "content-type",
                  "application/javascript"
                ]
              ],
              "status": 200,
              "status_text": ""
            }
          },
          "base_uri": "https://localhost:8080/",
          "height": 102
        },
        "id": "XQ6FLKq0_QaR",
        "outputId": "a0e01092-7cf6-4c88-84ab-3cb57957549a"
      },
      "source": [
        "from google.colab import files \r\n",
        "\r\n",
        "\r\n",
        "uploaded = files.upload()"
      ],
      "execution_count": null,
      "outputs": [
        {
          "output_type": "display_data",
          "data": {
            "text/html": [
              "\n",
              "     <input type=\"file\" id=\"files-155ed615-e3c0-4f48-9103-a657d074b494\" name=\"files[]\" multiple disabled\n",
              "        style=\"border:none\" />\n",
              "     <output id=\"result-155ed615-e3c0-4f48-9103-a657d074b494\">\n",
              "      Upload widget is only available when the cell has been executed in the\n",
              "      current browser session. Please rerun this cell to enable.\n",
              "      </output>\n",
              "      <script src=\"/nbextensions/google.colab/files.js\"></script> "
            ],
            "text/plain": [
              "<IPython.core.display.HTML object>"
            ]
          },
          "metadata": {
            "tags": []
          }
        },
        {
          "output_type": "stream",
          "text": [
            "Saving count_data.csv to count_data.csv\n",
            "Saving song_data (1).csv to song_data (1).csv\n"
          ],
          "name": "stdout"
        }
      ]
    },
    {
      "cell_type": "code",
      "metadata": {
        "id": "lA4UfDJ7DBc6"
      },
      "source": [
        "df_s = pd.read_csv('song_data (1).csv', header=None)\r\n",
        "df_s.columns = ['song_id', 'title', 'release', 'artist_name','year']\r\n",
        "\r\n",
        "df_c = pd.read_csv('count_data.csv', header=None)\r\n",
        "df_c.columns = ['counter','user_id', 'song_id','play_count']\r\n"
      ],
      "execution_count": null,
      "outputs": []
    },
    {
      "cell_type": "code",
      "metadata": {
        "colab": {
          "base_uri": "https://localhost:8080/",
          "height": 191
        },
        "id": "3JN_B4EQD3sg",
        "outputId": "5dfe20e7-4fac-4313-cd53-e12bfa74a2a2"
      },
      "source": [
        "df_s.head()"
      ],
      "execution_count": null,
      "outputs": [
        {
          "output_type": "execute_result",
          "data": {
            "text/html": [
              "<div>\n",
              "<style scoped>\n",
              "    .dataframe tbody tr th:only-of-type {\n",
              "        vertical-align: middle;\n",
              "    }\n",
              "\n",
              "    .dataframe tbody tr th {\n",
              "        vertical-align: top;\n",
              "    }\n",
              "\n",
              "    .dataframe thead th {\n",
              "        text-align: right;\n",
              "    }\n",
              "</style>\n",
              "<table border=\"1\" class=\"dataframe\">\n",
              "  <thead>\n",
              "    <tr style=\"text-align: right;\">\n",
              "      <th></th>\n",
              "      <th>song_id</th>\n",
              "      <th>title</th>\n",
              "      <th>release</th>\n",
              "      <th>artist_name</th>\n",
              "      <th>year</th>\n",
              "    </tr>\n",
              "  </thead>\n",
              "  <tbody>\n",
              "    <tr>\n",
              "      <th>0</th>\n",
              "      <td>song_id</td>\n",
              "      <td>title</td>\n",
              "      <td>release</td>\n",
              "      <td>artist_name</td>\n",
              "      <td>year</td>\n",
              "    </tr>\n",
              "    <tr>\n",
              "      <th>1</th>\n",
              "      <td>SOQMMHC12AB0180CB8</td>\n",
              "      <td>Silent Night</td>\n",
              "      <td>Monster Ballads X-Mas</td>\n",
              "      <td>Faster Pussy cat</td>\n",
              "      <td>2003</td>\n",
              "    </tr>\n",
              "    <tr>\n",
              "      <th>2</th>\n",
              "      <td>SOVFVAK12A8C1350D9</td>\n",
              "      <td>Tanssi vaan</td>\n",
              "      <td>Karkuteillä</td>\n",
              "      <td>Karkkiautomaatti</td>\n",
              "      <td>1995</td>\n",
              "    </tr>\n",
              "    <tr>\n",
              "      <th>3</th>\n",
              "      <td>SOGTUKN12AB017F4F1</td>\n",
              "      <td>No One Could Ever</td>\n",
              "      <td>Butter</td>\n",
              "      <td>Hudson Mohawke</td>\n",
              "      <td>2006</td>\n",
              "    </tr>\n",
              "    <tr>\n",
              "      <th>4</th>\n",
              "      <td>SOBNYVR12A8C13558C</td>\n",
              "      <td>Si Vos Querés</td>\n",
              "      <td>De Culo</td>\n",
              "      <td>Yerba Brava</td>\n",
              "      <td>2003</td>\n",
              "    </tr>\n",
              "  </tbody>\n",
              "</table>\n",
              "</div>"
            ],
            "text/plain": [
              "              song_id              title  ...       artist_name  year\n",
              "0             song_id              title  ...       artist_name  year\n",
              "1  SOQMMHC12AB0180CB8       Silent Night  ...  Faster Pussy cat  2003\n",
              "2  SOVFVAK12A8C1350D9        Tanssi vaan  ...  Karkkiautomaatti  1995\n",
              "3  SOGTUKN12AB017F4F1  No One Could Ever  ...    Hudson Mohawke  2006\n",
              "4  SOBNYVR12A8C13558C      Si Vos Querés  ...       Yerba Brava  2003\n",
              "\n",
              "[5 rows x 5 columns]"
            ]
          },
          "metadata": {
            "tags": []
          },
          "execution_count": 5
        }
      ]
    },
    {
      "cell_type": "code",
      "metadata": {
        "colab": {
          "base_uri": "https://localhost:8080/",
          "height": 191
        },
        "id": "UPKWXKSPFn1Q",
        "outputId": "dafbc0f5-4365-4d1b-9828-e6b13fc74c3f"
      },
      "source": [
        "df_c.head()"
      ],
      "execution_count": null,
      "outputs": [
        {
          "output_type": "execute_result",
          "data": {
            "text/html": [
              "<div>\n",
              "<style scoped>\n",
              "    .dataframe tbody tr th:only-of-type {\n",
              "        vertical-align: middle;\n",
              "    }\n",
              "\n",
              "    .dataframe tbody tr th {\n",
              "        vertical-align: top;\n",
              "    }\n",
              "\n",
              "    .dataframe thead th {\n",
              "        text-align: right;\n",
              "    }\n",
              "</style>\n",
              "<table border=\"1\" class=\"dataframe\">\n",
              "  <thead>\n",
              "    <tr style=\"text-align: right;\">\n",
              "      <th></th>\n",
              "      <th>counter</th>\n",
              "      <th>user_id</th>\n",
              "      <th>song_id</th>\n",
              "      <th>play_count</th>\n",
              "    </tr>\n",
              "  </thead>\n",
              "  <tbody>\n",
              "    <tr>\n",
              "      <th>0</th>\n",
              "      <td>NaN</td>\n",
              "      <td>user_id</td>\n",
              "      <td>song_id</td>\n",
              "      <td>play_count</td>\n",
              "    </tr>\n",
              "    <tr>\n",
              "      <th>1</th>\n",
              "      <td>0.0</td>\n",
              "      <td>b80344d063b5ccb3212f76538f3d9e43d87dca9e</td>\n",
              "      <td>SOAKIMP12A8C130995</td>\n",
              "      <td>1</td>\n",
              "    </tr>\n",
              "    <tr>\n",
              "      <th>2</th>\n",
              "      <td>1.0</td>\n",
              "      <td>b80344d063b5ccb3212f76538f3d9e43d87dca9e</td>\n",
              "      <td>SOBBMDR12A8C13253B</td>\n",
              "      <td>2</td>\n",
              "    </tr>\n",
              "    <tr>\n",
              "      <th>3</th>\n",
              "      <td>2.0</td>\n",
              "      <td>b80344d063b5ccb3212f76538f3d9e43d87dca9e</td>\n",
              "      <td>SOBXHDL12A81C204C0</td>\n",
              "      <td>1</td>\n",
              "    </tr>\n",
              "    <tr>\n",
              "      <th>4</th>\n",
              "      <td>3.0</td>\n",
              "      <td>b80344d063b5ccb3212f76538f3d9e43d87dca9e</td>\n",
              "      <td>SOBYHAJ12A6701BF1D</td>\n",
              "      <td>1</td>\n",
              "    </tr>\n",
              "  </tbody>\n",
              "</table>\n",
              "</div>"
            ],
            "text/plain": [
              "   counter  ...  play_count\n",
              "0      NaN  ...  play_count\n",
              "1      0.0  ...           1\n",
              "2      1.0  ...           2\n",
              "3      2.0  ...           1\n",
              "4      3.0  ...           1\n",
              "\n",
              "[5 rows x 4 columns]"
            ]
          },
          "metadata": {
            "tags": []
          },
          "execution_count": 6
        }
      ]
    },
    {
      "cell_type": "code",
      "metadata": {
        "colab": {
          "base_uri": "https://localhost:8080/"
        },
        "id": "D2-rTUpEFt2Y",
        "outputId": "4800838d-15b1-4858-8de6-8219cb26f382"
      },
      "source": [
        "print(df_s.info())\r\n",
        "print('Songs Data shape',df_s.shape)"
      ],
      "execution_count": null,
      "outputs": [
        {
          "output_type": "stream",
          "text": [
            "<class 'pandas.core.frame.DataFrame'>\n",
            "RangeIndex: 1000001 entries, 0 to 1000000\n",
            "Data columns (total 5 columns):\n",
            " #   Column       Non-Null Count    Dtype \n",
            "---  ------       --------------    ----- \n",
            " 0   song_id      1000001 non-null  object\n",
            " 1   title        999986 non-null   object\n",
            " 2   release      999996 non-null   object\n",
            " 3   artist_name  1000001 non-null  object\n",
            " 4   year         1000001 non-null  object\n",
            "dtypes: object(5)\n",
            "memory usage: 38.1+ MB\n",
            "None\n",
            "Songs Data shape (1000001, 5)\n"
          ],
          "name": "stdout"
        }
      ]
    },
    {
      "cell_type": "code",
      "metadata": {
        "colab": {
          "base_uri": "https://localhost:8080/"
        },
        "id": "_PfEKx5aFzsq",
        "outputId": "7c3a4f68-40ea-498c-f243-93529d885d84"
      },
      "source": [
        "print(df_c.info())\r\n",
        "print('Songs Count Data shape', df_c.shape)"
      ],
      "execution_count": null,
      "outputs": [
        {
          "output_type": "stream",
          "text": [
            "<class 'pandas.core.frame.DataFrame'>\n",
            "RangeIndex: 2000001 entries, 0 to 2000000\n",
            "Data columns (total 4 columns):\n",
            " #   Column      Dtype  \n",
            "---  ------      -----  \n",
            " 0   counter     float64\n",
            " 1   user_id     object \n",
            " 2   song_id     object \n",
            " 3   play_count  object \n",
            "dtypes: float64(1), object(3)\n",
            "memory usage: 61.0+ MB\n",
            "None\n",
            "Songs Count Data shape (2000001, 4)\n"
          ],
          "name": "stdout"
        }
      ]
    },
    {
      "cell_type": "code",
      "metadata": {
        "colab": {
          "base_uri": "https://localhost:8080/"
        },
        "id": "Jay4z6PPF-xg",
        "outputId": "48f822e9-5fce-47b6-915a-7a52916ef0aa"
      },
      "source": [
        "print('Number of missing values across columns-\\n', df_s.isnull().sum())"
      ],
      "execution_count": null,
      "outputs": [
        {
          "output_type": "stream",
          "text": [
            "Number of missing values across columns-\n",
            " song_id         0\n",
            "title          15\n",
            "release         5\n",
            "artist_name     0\n",
            "year            0\n",
            "dtype: int64\n"
          ],
          "name": "stdout"
        }
      ]
    },
    {
      "cell_type": "code",
      "metadata": {
        "colab": {
          "base_uri": "https://localhost:8080/"
        },
        "id": "pmgQxkaUGCRg",
        "outputId": "4509152c-b679-47df-bf63-a47828229bf0"
      },
      "source": [
        "print('Number of missing values across columns-\\n', df_c.isnull().sum())"
      ],
      "execution_count": null,
      "outputs": [
        {
          "output_type": "stream",
          "text": [
            "Number of missing values across columns-\n",
            " counter       1\n",
            "user_id       0\n",
            "song_id       0\n",
            "play_count    0\n",
            "dtype: int64\n"
          ],
          "name": "stdout"
        }
      ]
    },
    {
      "cell_type": "code",
      "metadata": {
        "colab": {
          "base_uri": "https://localhost:8080/",
          "height": 162
        },
        "id": "HdyBUdw-GGqj",
        "outputId": "7b16d08e-0d80-40a4-97b8-26408d4ba29c"
      },
      "source": [
        "df_s.describe()"
      ],
      "execution_count": null,
      "outputs": [
        {
          "output_type": "execute_result",
          "data": {
            "text/html": [
              "<div>\n",
              "<style scoped>\n",
              "    .dataframe tbody tr th:only-of-type {\n",
              "        vertical-align: middle;\n",
              "    }\n",
              "\n",
              "    .dataframe tbody tr th {\n",
              "        vertical-align: top;\n",
              "    }\n",
              "\n",
              "    .dataframe thead th {\n",
              "        text-align: right;\n",
              "    }\n",
              "</style>\n",
              "<table border=\"1\" class=\"dataframe\">\n",
              "  <thead>\n",
              "    <tr style=\"text-align: right;\">\n",
              "      <th></th>\n",
              "      <th>song_id</th>\n",
              "      <th>title</th>\n",
              "      <th>release</th>\n",
              "      <th>artist_name</th>\n",
              "      <th>year</th>\n",
              "    </tr>\n",
              "  </thead>\n",
              "  <tbody>\n",
              "    <tr>\n",
              "      <th>count</th>\n",
              "      <td>1000001</td>\n",
              "      <td>999986</td>\n",
              "      <td>999996</td>\n",
              "      <td>1000001</td>\n",
              "      <td>1000001</td>\n",
              "    </tr>\n",
              "    <tr>\n",
              "      <th>unique</th>\n",
              "      <td>999057</td>\n",
              "      <td>702429</td>\n",
              "      <td>149289</td>\n",
              "      <td>72666</td>\n",
              "      <td>178</td>\n",
              "    </tr>\n",
              "    <tr>\n",
              "      <th>top</th>\n",
              "      <td>SOEGQML12AF7299C84</td>\n",
              "      <td>Intro</td>\n",
              "      <td>Greatest Hits</td>\n",
              "      <td>Michael Jackson</td>\n",
              "      <td>0</td>\n",
              "    </tr>\n",
              "    <tr>\n",
              "      <th>freq</th>\n",
              "      <td>3</td>\n",
              "      <td>1510</td>\n",
              "      <td>2014</td>\n",
              "      <td>194</td>\n",
              "      <td>420876</td>\n",
              "    </tr>\n",
              "  </tbody>\n",
              "</table>\n",
              "</div>"
            ],
            "text/plain": [
              "                   song_id   title        release      artist_name     year\n",
              "count              1000001  999986         999996          1000001  1000001\n",
              "unique              999057  702429         149289            72666      178\n",
              "top     SOEGQML12AF7299C84   Intro  Greatest Hits  Michael Jackson        0\n",
              "freq                     3    1510           2014              194   420876"
            ]
          },
          "metadata": {
            "tags": []
          },
          "execution_count": 11
        }
      ]
    },
    {
      "cell_type": "code",
      "metadata": {
        "id": "a_mghHCkcX0y"
      },
      "source": [
        "df_s.sort_values(\"song_id\", inplace = True) \r\n",
        "  \r\n",
        "# dropping ALL duplicte values \r\n",
        "df_s.drop_duplicates(subset =\"song_id\", \r\n",
        "                     keep = False, inplace = True) "
      ],
      "execution_count": null,
      "outputs": []
    },
    {
      "cell_type": "code",
      "metadata": {
        "colab": {
          "base_uri": "https://localhost:8080/",
          "height": 162
        },
        "id": "PdoiAytjc9pS",
        "outputId": "1eab138c-a8da-4112-ef0e-11f3259852d8"
      },
      "source": [
        "# we will describe the data of the songs here to check the cleaning of the Songs id, becuse as we notice that there is\r\n",
        "# a duplication on the songs id, and this is not accapted as the song id considred ad the primary key of the songs.\r\n",
        "df_s.describe() "
      ],
      "execution_count": null,
      "outputs": [
        {
          "output_type": "execute_result",
          "data": {
            "text/html": [
              "<div>\n",
              "<style scoped>\n",
              "    .dataframe tbody tr th:only-of-type {\n",
              "        vertical-align: middle;\n",
              "    }\n",
              "\n",
              "    .dataframe tbody tr th {\n",
              "        vertical-align: top;\n",
              "    }\n",
              "\n",
              "    .dataframe thead th {\n",
              "        text-align: right;\n",
              "    }\n",
              "</style>\n",
              "<table border=\"1\" class=\"dataframe\">\n",
              "  <thead>\n",
              "    <tr style=\"text-align: right;\">\n",
              "      <th></th>\n",
              "      <th>song_id</th>\n",
              "      <th>title</th>\n",
              "      <th>release</th>\n",
              "      <th>artist_name</th>\n",
              "      <th>year</th>\n",
              "    </tr>\n",
              "  </thead>\n",
              "  <tbody>\n",
              "    <tr>\n",
              "      <th>count</th>\n",
              "      <td>998161</td>\n",
              "      <td>998146</td>\n",
              "      <td>998156</td>\n",
              "      <td>998161</td>\n",
              "      <td>998161</td>\n",
              "    </tr>\n",
              "    <tr>\n",
              "      <th>unique</th>\n",
              "      <td>998161</td>\n",
              "      <td>701975</td>\n",
              "      <td>149114</td>\n",
              "      <td>72627</td>\n",
              "      <td>178</td>\n",
              "    </tr>\n",
              "    <tr>\n",
              "      <th>top</th>\n",
              "      <td>SOLGRWY12A6BD55BFB</td>\n",
              "      <td>Intro</td>\n",
              "      <td>Greatest Hits</td>\n",
              "      <td>Johnny Cash</td>\n",
              "      <td>0</td>\n",
              "    </tr>\n",
              "    <tr>\n",
              "      <th>freq</th>\n",
              "      <td>1</td>\n",
              "      <td>1510</td>\n",
              "      <td>1989</td>\n",
              "      <td>189</td>\n",
              "      <td>420628</td>\n",
              "    </tr>\n",
              "  </tbody>\n",
              "</table>\n",
              "</div>"
            ],
            "text/plain": [
              "                   song_id   title        release  artist_name    year\n",
              "count               998161  998146         998156       998161  998161\n",
              "unique              998161  701975         149114        72627     178\n",
              "top     SOLGRWY12A6BD55BFB   Intro  Greatest Hits  Johnny Cash       0\n",
              "freq                     1    1510           1989          189  420628"
            ]
          },
          "metadata": {
            "tags": []
          },
          "execution_count": 13
        }
      ]
    },
    {
      "cell_type": "code",
      "metadata": {
        "id": "sk8goq_whm94"
      },
      "source": [
        "## here we will do the data cleaning by removing the unwanted chracters and numbers\r\n",
        "\r\n",
        "df_s['release']= df_s['release'].str.replace('\\d+', '',regex=True)\r\n",
        "df_s['release'] = df_s['release'].str.replace('[#,@,&]' , '')\r\n",
        "df_s['release'] = df_s['release'].str.replace('[-,--,---,:,\",!,..!!!..,...,%,$,/_,+ /,{ ,'',(),=,(((,))),*,?,],]' , '')\r\n",
        "\r\n",
        "df_s['artist_name']= df_s['artist_name'].str.replace('\\d+', '',regex=True)\r\n",
        "df_s['artist_name'] = df_s['artist_name'].str.replace('[#,@,&]' , '')\r\n",
        "df_s['artist_name'] = df_s['artist_name'].str.replace('[-,--,---,:,\",!,..!!!..,...,%,$,/_,+ /,{,'',(),=,(((,))),*,?,],]' , '')\r\n",
        "\r\n",
        "\r\n",
        "df_s['title']= df_s['title'].str.replace('\\d+', '',regex=True)\r\n",
        "df_s['title'] = df_s['title'].str.replace('[#,@,&]' , '')\r\n",
        "df_s['title'] = df_s['title'].str.replace('[-,--,---,:,\",!,..!!!..,...,%,$,/_,+ /,{,'',(),=,(((,))),*,?,],]' , '')\r\n",
        "\r\n",
        "#df['E'] = df['B'].str.replace('\\W', '')\r\n",
        "#'[#,@,&]'   [-,--,---,-  -]"
      ],
      "execution_count": null,
      "outputs": []
    },
    {
      "cell_type": "code",
      "metadata": {
        "colab": {
          "base_uri": "https://localhost:8080/"
        },
        "id": "AjtB9exaK0-s",
        "outputId": "57aecd05-9eb1-4087-a37a-c42b466fe587"
      },
      "source": [
        "print('Number of missing values across columns-\\n', df_s.isnull().sum())"
      ],
      "execution_count": null,
      "outputs": [
        {
          "output_type": "stream",
          "text": [
            "Number of missing values across columns-\n",
            " song_id         0\n",
            "title          15\n",
            "release         5\n",
            "artist_name     0\n",
            "year            0\n",
            "dtype: int64\n"
          ],
          "name": "stdout"
        }
      ]
    },
    {
      "cell_type": "code",
      "metadata": {
        "colab": {
          "base_uri": "https://localhost:8080/"
        },
        "id": "4sbqTzevLIK3",
        "outputId": "38d748c4-7b6d-4d10-dbb2-fbdefbe4d38f"
      },
      "source": [
        "df_s = df_s.dropna(how='any',axis=0)\r\n",
        "\r\n",
        "print('Number of missing values across columns-\\n', df_s.isnull().sum())\r\n",
        "\r\n",
        "df_s = df_s.drop(df_s[df_s['title'] == ''].index) \r\n",
        "df_s = df_s.drop(df_s[df_s['release'] == ''].index) "
      ],
      "execution_count": null,
      "outputs": [
        {
          "output_type": "stream",
          "text": [
            "Number of missing values across columns-\n",
            " song_id        0\n",
            "title          0\n",
            "release        0\n",
            "artist_name    0\n",
            "year           0\n",
            "dtype: int64\n"
          ],
          "name": "stdout"
        }
      ]
    },
    {
      "cell_type": "code",
      "metadata": {
        "colab": {
          "base_uri": "https://localhost:8080/"
        },
        "id": "jxYK9favg_cV",
        "outputId": "a03d3a54-aaf1-4d42-c95c-42136fe4d366"
      },
      "source": [
        "print('Number of missing values across columns-\\n', df_c.isnull().sum())\r\n"
      ],
      "execution_count": null,
      "outputs": [
        {
          "output_type": "stream",
          "text": [
            "Number of missing values across columns-\n",
            " counter       1\n",
            "user_id       0\n",
            "song_id       0\n",
            "play_count    0\n",
            "dtype: int64\n"
          ],
          "name": "stdout"
        }
      ]
    },
    {
      "cell_type": "code",
      "metadata": {
        "colab": {
          "base_uri": "https://localhost:8080/"
        },
        "id": "5C040mbUgl0z",
        "outputId": "8212b283-9614-4d20-ab9d-969632b3b7fb"
      },
      "source": [
        "#here we will remove any null values on the counts data. \r\n",
        "df_c = df_c.dropna(how='any',axis=0)\r\n",
        "\r\n",
        "\r\n",
        "print('Number of missing values across columns-\\n', df_c.isnull().sum())"
      ],
      "execution_count": null,
      "outputs": [
        {
          "output_type": "stream",
          "text": [
            "Number of missing values across columns-\n",
            " counter       0\n",
            "user_id       0\n",
            "song_id       0\n",
            "play_count    0\n",
            "dtype: int64\n"
          ],
          "name": "stdout"
        }
      ]
    },
    {
      "cell_type": "code",
      "metadata": {
        "colab": {
          "base_uri": "https://localhost:8080/"
        },
        "id": "OUHVf7TVMc8f",
        "outputId": "6e77603c-220e-4a96-8f84-3401e4f4ba6d"
      },
      "source": [
        "print('Number of unique USERS in Raw data = ', df_c['user_id'].nunique())\r\n",
        "print('Number of unique Songs in Raw data = ', df_s['song_id'].nunique())"
      ],
      "execution_count": null,
      "outputs": [
        {
          "output_type": "stream",
          "text": [
            "Number of unique USERS in Raw data =  76353\n",
            "Number of unique Songs in Raw data =  994820\n"
          ],
          "name": "stdout"
        }
      ]
    },
    {
      "cell_type": "code",
      "metadata": {
        "colab": {
          "base_uri": "https://localhost:8080/",
          "height": 277
        },
        "id": "iZcufofcGNHH",
        "outputId": "f41027a8-9e08-42d7-8336-f0feff42ea09"
      },
      "source": [
        "df_c.describe()"
      ],
      "execution_count": null,
      "outputs": [
        {
          "output_type": "execute_result",
          "data": {
            "text/html": [
              "<div>\n",
              "<style scoped>\n",
              "    .dataframe tbody tr th:only-of-type {\n",
              "        vertical-align: middle;\n",
              "    }\n",
              "\n",
              "    .dataframe tbody tr th {\n",
              "        vertical-align: top;\n",
              "    }\n",
              "\n",
              "    .dataframe thead th {\n",
              "        text-align: right;\n",
              "    }\n",
              "</style>\n",
              "<table border=\"1\" class=\"dataframe\">\n",
              "  <thead>\n",
              "    <tr style=\"text-align: right;\">\n",
              "      <th></th>\n",
              "      <th>counter</th>\n",
              "    </tr>\n",
              "  </thead>\n",
              "  <tbody>\n",
              "    <tr>\n",
              "      <th>count</th>\n",
              "      <td>2.000000e+06</td>\n",
              "    </tr>\n",
              "    <tr>\n",
              "      <th>mean</th>\n",
              "      <td>9.999995e+05</td>\n",
              "    </tr>\n",
              "    <tr>\n",
              "      <th>std</th>\n",
              "      <td>5.773504e+05</td>\n",
              "    </tr>\n",
              "    <tr>\n",
              "      <th>min</th>\n",
              "      <td>0.000000e+00</td>\n",
              "    </tr>\n",
              "    <tr>\n",
              "      <th>25%</th>\n",
              "      <td>4.999998e+05</td>\n",
              "    </tr>\n",
              "    <tr>\n",
              "      <th>50%</th>\n",
              "      <td>9.999995e+05</td>\n",
              "    </tr>\n",
              "    <tr>\n",
              "      <th>75%</th>\n",
              "      <td>1.499999e+06</td>\n",
              "    </tr>\n",
              "    <tr>\n",
              "      <th>max</th>\n",
              "      <td>1.999999e+06</td>\n",
              "    </tr>\n",
              "  </tbody>\n",
              "</table>\n",
              "</div>"
            ],
            "text/plain": [
              "            counter\n",
              "count  2.000000e+06\n",
              "mean   9.999995e+05\n",
              "std    5.773504e+05\n",
              "min    0.000000e+00\n",
              "25%    4.999998e+05\n",
              "50%    9.999995e+05\n",
              "75%    1.499999e+06\n",
              "max    1.999999e+06"
            ]
          },
          "metadata": {
            "tags": []
          },
          "execution_count": 20
        }
      ]
    },
    {
      "cell_type": "code",
      "metadata": {
        "id": "I7lghI8fGqUW"
      },
      "source": [
        "songs_count = df_c.merge(df_s , on = ['song_id'],how='left')\r\n"
      ],
      "execution_count": null,
      "outputs": []
    },
    {
      "cell_type": "code",
      "metadata": {
        "colab": {
          "base_uri": "https://localhost:8080/",
          "height": 391
        },
        "id": "vEWhAbrnITGP",
        "outputId": "b1098089-6110-4235-bef5-645a1fd1fd96"
      },
      "source": [
        "songs_count"
      ],
      "execution_count": null,
      "outputs": [
        {
          "output_type": "execute_result",
          "data": {
            "text/html": [
              "<div>\n",
              "<style scoped>\n",
              "    .dataframe tbody tr th:only-of-type {\n",
              "        vertical-align: middle;\n",
              "    }\n",
              "\n",
              "    .dataframe tbody tr th {\n",
              "        vertical-align: top;\n",
              "    }\n",
              "\n",
              "    .dataframe thead th {\n",
              "        text-align: right;\n",
              "    }\n",
              "</style>\n",
              "<table border=\"1\" class=\"dataframe\">\n",
              "  <thead>\n",
              "    <tr style=\"text-align: right;\">\n",
              "      <th></th>\n",
              "      <th>counter</th>\n",
              "      <th>user_id</th>\n",
              "      <th>song_id</th>\n",
              "      <th>play_count</th>\n",
              "      <th>title</th>\n",
              "      <th>release</th>\n",
              "      <th>artist_name</th>\n",
              "      <th>year</th>\n",
              "    </tr>\n",
              "  </thead>\n",
              "  <tbody>\n",
              "    <tr>\n",
              "      <th>0</th>\n",
              "      <td>0.0</td>\n",
              "      <td>b80344d063b5ccb3212f76538f3d9e43d87dca9e</td>\n",
              "      <td>SOAKIMP12A8C130995</td>\n",
              "      <td>1</td>\n",
              "      <td>The Cove</td>\n",
              "      <td>Thicker Than Water</td>\n",
              "      <td>Jack Johnson</td>\n",
              "      <td>0</td>\n",
              "    </tr>\n",
              "    <tr>\n",
              "      <th>1</th>\n",
              "      <td>1.0</td>\n",
              "      <td>b80344d063b5ccb3212f76538f3d9e43d87dca9e</td>\n",
              "      <td>SOBBMDR12A8C13253B</td>\n",
              "      <td>2</td>\n",
              "      <td>Entre Dos Aguas</td>\n",
              "      <td>Flamenco Para Niños</td>\n",
              "      <td>Paco De Lucia</td>\n",
              "      <td>1976</td>\n",
              "    </tr>\n",
              "    <tr>\n",
              "      <th>2</th>\n",
              "      <td>2.0</td>\n",
              "      <td>b80344d063b5ccb3212f76538f3d9e43d87dca9e</td>\n",
              "      <td>SOBXHDL12A81C204C0</td>\n",
              "      <td>1</td>\n",
              "      <td>NaN</td>\n",
              "      <td>NaN</td>\n",
              "      <td>NaN</td>\n",
              "      <td>NaN</td>\n",
              "    </tr>\n",
              "    <tr>\n",
              "      <th>3</th>\n",
              "      <td>3.0</td>\n",
              "      <td>b80344d063b5ccb3212f76538f3d9e43d87dca9e</td>\n",
              "      <td>SOBYHAJ12A6701BF1D</td>\n",
              "      <td>1</td>\n",
              "      <td>Constellations</td>\n",
              "      <td>In Between Dreams</td>\n",
              "      <td>Jack Johnson</td>\n",
              "      <td>2005</td>\n",
              "    </tr>\n",
              "    <tr>\n",
              "      <th>4</th>\n",
              "      <td>4.0</td>\n",
              "      <td>b80344d063b5ccb3212f76538f3d9e43d87dca9e</td>\n",
              "      <td>SODACBL12A8C13C273</td>\n",
              "      <td>1</td>\n",
              "      <td>Learn To Fly</td>\n",
              "      <td>There Is Nothing Left To Lose</td>\n",
              "      <td>Foo Fighters</td>\n",
              "      <td>1999</td>\n",
              "    </tr>\n",
              "    <tr>\n",
              "      <th>...</th>\n",
              "      <td>...</td>\n",
              "      <td>...</td>\n",
              "      <td>...</td>\n",
              "      <td>...</td>\n",
              "      <td>...</td>\n",
              "      <td>...</td>\n",
              "      <td>...</td>\n",
              "      <td>...</td>\n",
              "    </tr>\n",
              "    <tr>\n",
              "      <th>1999995</th>\n",
              "      <td>1999995.0</td>\n",
              "      <td>d8bfd4ec88f0f3773a9e022e3c1a0f1d3b7b6a92</td>\n",
              "      <td>SOJEYPO12AAA8C6B0E</td>\n",
              "      <td>2</td>\n",
              "      <td>Ignorance (Album Version)</td>\n",
              "      <td>Ignorance</td>\n",
              "      <td>Paramore</td>\n",
              "      <td>0</td>\n",
              "    </tr>\n",
              "    <tr>\n",
              "      <th>1999996</th>\n",
              "      <td>1999996.0</td>\n",
              "      <td>d8bfd4ec88f0f3773a9e022e3c1a0f1d3b7b6a92</td>\n",
              "      <td>SOJJYDE12AF729FC16</td>\n",
              "      <td>4</td>\n",
              "      <td>Two Is Better Than One</td>\n",
              "      <td>Love Drunk</td>\n",
              "      <td>Boys Like Girls featuring Taylor Swift</td>\n",
              "      <td>2009</td>\n",
              "    </tr>\n",
              "    <tr>\n",
              "      <th>1999997</th>\n",
              "      <td>1999997.0</td>\n",
              "      <td>d8bfd4ec88f0f3773a9e022e3c1a0f1d3b7b6a92</td>\n",
              "      <td>SOJKQSF12A6D4F5EE9</td>\n",
              "      <td>3</td>\n",
              "      <td>What I've Done (Album Version)</td>\n",
              "      <td>What I've Done</td>\n",
              "      <td>Linkin Park</td>\n",
              "      <td>2007</td>\n",
              "    </tr>\n",
              "    <tr>\n",
              "      <th>1999998</th>\n",
              "      <td>1999998.0</td>\n",
              "      <td>d8bfd4ec88f0f3773a9e022e3c1a0f1d3b7b6a92</td>\n",
              "      <td>SOJUXGA12AC961885C</td>\n",
              "      <td>1</td>\n",
              "      <td>Up</td>\n",
              "      <td>My Worlds</td>\n",
              "      <td>Justin Bieber</td>\n",
              "      <td>2010</td>\n",
              "    </tr>\n",
              "    <tr>\n",
              "      <th>1999999</th>\n",
              "      <td>1999999.0</td>\n",
              "      <td>d8bfd4ec88f0f3773a9e022e3c1a0f1d3b7b6a92</td>\n",
              "      <td>SOJYOLS12A8C13C06F</td>\n",
              "      <td>1</td>\n",
              "      <td>Soil_ Soil (Album Version)</td>\n",
              "      <td>The Con</td>\n",
              "      <td>Tegan And Sara</td>\n",
              "      <td>2007</td>\n",
              "    </tr>\n",
              "  </tbody>\n",
              "</table>\n",
              "<p>2000000 rows × 8 columns</p>\n",
              "</div>"
            ],
            "text/plain": [
              "           counter  ...  year\n",
              "0              0.0  ...     0\n",
              "1              1.0  ...  1976\n",
              "2              2.0  ...   NaN\n",
              "3              3.0  ...  2005\n",
              "4              4.0  ...  1999\n",
              "...            ...  ...   ...\n",
              "1999995  1999995.0  ...     0\n",
              "1999996  1999996.0  ...  2009\n",
              "1999997  1999997.0  ...  2007\n",
              "1999998  1999998.0  ...  2010\n",
              "1999999  1999999.0  ...  2007\n",
              "\n",
              "[2000000 rows x 8 columns]"
            ]
          },
          "metadata": {
            "tags": []
          },
          "execution_count": 22
        }
      ]
    },
    {
      "cell_type": "code",
      "metadata": {
        "id": "2VaWoeDoQrrT"
      },
      "source": [
        "\r\n",
        "songs_count[[\"play_count\", \"year\"]] = songs_count[[\"play_count\", \"year\"]].apply(pd.to_numeric)\r\n",
        "songs_count['user_id'] = songs_count['user_id'].astype('string')\r\n",
        "songs_count['song_id'] = songs_count['song_id'].astype('string')\r\n",
        "songs_count['title'] = songs_count['title'].astype('string')\r\n",
        "songs_count['release'] = songs_count['release'].astype('string')\r\n",
        "songs_count['artist_name'] = songs_count['artist_name'].astype('string')"
      ],
      "execution_count": null,
      "outputs": []
    },
    {
      "cell_type": "code",
      "metadata": {
        "colab": {
          "base_uri": "https://localhost:8080/"
        },
        "id": "RCCcWDSdQPCn",
        "outputId": "a5cca913-6bf9-43e4-a646-5a25d51c9a77"
      },
      "source": [
        "songs_count.dtypes"
      ],
      "execution_count": null,
      "outputs": [
        {
          "output_type": "execute_result",
          "data": {
            "text/plain": [
              "counter        float64\n",
              "user_id         string\n",
              "song_id         string\n",
              "play_count       int64\n",
              "title           string\n",
              "release         string\n",
              "artist_name     string\n",
              "year           float64\n",
              "dtype: object"
            ]
          },
          "metadata": {
            "tags": []
          },
          "execution_count": 24
        }
      ]
    },
    {
      "cell_type": "code",
      "metadata": {
        "colab": {
          "base_uri": "https://localhost:8080/"
        },
        "id": "1hZ0yrhCROgp",
        "outputId": "af43dd20-52a6-4cd8-aec7-4d6944598a88"
      },
      "source": [
        "songs_count.shape"
      ],
      "execution_count": null,
      "outputs": [
        {
          "output_type": "execute_result",
          "data": {
            "text/plain": [
              "(2000000, 8)"
            ]
          },
          "metadata": {
            "tags": []
          },
          "execution_count": 25
        }
      ]
    },
    {
      "cell_type": "code",
      "metadata": {
        "colab": {
          "base_uri": "https://localhost:8080/",
          "height": 105
        },
        "id": "W8niqJkbGWMX",
        "outputId": "40e6d0a6-4f4e-48e9-f0de-e36f1c0a0f79"
      },
      "source": [
        "songs_count[\"play_count\"].describe().reset_index().T"
      ],
      "execution_count": null,
      "outputs": [
        {
          "output_type": "execute_result",
          "data": {
            "text/html": [
              "<div>\n",
              "<style scoped>\n",
              "    .dataframe tbody tr th:only-of-type {\n",
              "        vertical-align: middle;\n",
              "    }\n",
              "\n",
              "    .dataframe tbody tr th {\n",
              "        vertical-align: top;\n",
              "    }\n",
              "\n",
              "    .dataframe thead th {\n",
              "        text-align: right;\n",
              "    }\n",
              "</style>\n",
              "<table border=\"1\" class=\"dataframe\">\n",
              "  <thead>\n",
              "    <tr style=\"text-align: right;\">\n",
              "      <th></th>\n",
              "      <th>0</th>\n",
              "      <th>1</th>\n",
              "      <th>2</th>\n",
              "      <th>3</th>\n",
              "      <th>4</th>\n",
              "      <th>5</th>\n",
              "      <th>6</th>\n",
              "      <th>7</th>\n",
              "    </tr>\n",
              "  </thead>\n",
              "  <tbody>\n",
              "    <tr>\n",
              "      <th>index</th>\n",
              "      <td>count</td>\n",
              "      <td>mean</td>\n",
              "      <td>std</td>\n",
              "      <td>min</td>\n",
              "      <td>25%</td>\n",
              "      <td>50%</td>\n",
              "      <td>75%</td>\n",
              "      <td>max</td>\n",
              "    </tr>\n",
              "    <tr>\n",
              "      <th>play_count</th>\n",
              "      <td>2e+06</td>\n",
              "      <td>3.04548</td>\n",
              "      <td>6.57972</td>\n",
              "      <td>1</td>\n",
              "      <td>1</td>\n",
              "      <td>1</td>\n",
              "      <td>3</td>\n",
              "      <td>2213</td>\n",
              "    </tr>\n",
              "  </tbody>\n",
              "</table>\n",
              "</div>"
            ],
            "text/plain": [
              "                0        1        2    3    4    5    6     7\n",
              "index       count     mean      std  min  25%  50%  75%   max\n",
              "play_count  2e+06  3.04548  6.57972    1    1    1    3  2213"
            ]
          },
          "metadata": {
            "tags": []
          },
          "execution_count": 26
        }
      ]
    },
    {
      "cell_type": "code",
      "metadata": {
        "id": "S3QCRIHoIG9r"
      },
      "source": [
        "df_c[\"play_count\"] = df_c[\"play_count\"].apply(pd.to_numeric)"
      ],
      "execution_count": null,
      "outputs": []
    },
    {
      "cell_type": "code",
      "metadata": {
        "colab": {
          "base_uri": "https://localhost:8080/",
          "height": 121
        },
        "id": "PURG4Pc0HNIo",
        "outputId": "c49979e7-99f3-445f-e8b4-633093a5f46d"
      },
      "source": [
        "print('{:d} users, {:.2%} of total play counts, listening a single more than 200 times'.format(\r\n",
        "    df_c.user_id[df_c.play_count>200].unique().shape[0],\r\n",
        "    df_c.play_count[df_c.play_count>200].count()/df_c.shape[0]))\r\n",
        "display(df_c.play_count[df_c.play_count>200].describe().reset_index().T)"
      ],
      "execution_count": null,
      "outputs": [
        {
          "output_type": "stream",
          "text": [
            "118 users, 0.01% of total play counts, listening a single more than 200 times\n"
          ],
          "name": "stdout"
        },
        {
          "output_type": "display_data",
          "data": {
            "text/html": [
              "<div>\n",
              "<style scoped>\n",
              "    .dataframe tbody tr th:only-of-type {\n",
              "        vertical-align: middle;\n",
              "    }\n",
              "\n",
              "    .dataframe tbody tr th {\n",
              "        vertical-align: top;\n",
              "    }\n",
              "\n",
              "    .dataframe thead th {\n",
              "        text-align: right;\n",
              "    }\n",
              "</style>\n",
              "<table border=\"1\" class=\"dataframe\">\n",
              "  <thead>\n",
              "    <tr style=\"text-align: right;\">\n",
              "      <th></th>\n",
              "      <th>0</th>\n",
              "      <th>1</th>\n",
              "      <th>2</th>\n",
              "      <th>3</th>\n",
              "      <th>4</th>\n",
              "      <th>5</th>\n",
              "      <th>6</th>\n",
              "      <th>7</th>\n",
              "    </tr>\n",
              "  </thead>\n",
              "  <tbody>\n",
              "    <tr>\n",
              "      <th>index</th>\n",
              "      <td>count</td>\n",
              "      <td>mean</td>\n",
              "      <td>std</td>\n",
              "      <td>min</td>\n",
              "      <td>25%</td>\n",
              "      <td>50%</td>\n",
              "      <td>75%</td>\n",
              "      <td>max</td>\n",
              "    </tr>\n",
              "    <tr>\n",
              "      <th>play_count</th>\n",
              "      <td>140</td>\n",
              "      <td>327.107</td>\n",
              "      <td>209.115</td>\n",
              "      <td>201</td>\n",
              "      <td>225</td>\n",
              "      <td>267</td>\n",
              "      <td>353.75</td>\n",
              "      <td>2213</td>\n",
              "    </tr>\n",
              "  </tbody>\n",
              "</table>\n",
              "</div>"
            ],
            "text/plain": [
              "                0        1        2    3    4    5       6     7\n",
              "index       count     mean      std  min  25%  50%     75%   max\n",
              "play_count    140  327.107  209.115  201  225  267  353.75  2213"
            ]
          },
          "metadata": {
            "tags": []
          }
        }
      ]
    },
    {
      "cell_type": "code",
      "metadata": {
        "colab": {
          "base_uri": "https://localhost:8080/",
          "height": 92
        },
        "id": "2Kp2eisYMKh_",
        "outputId": "2add887e-c2a3-4955-ad7b-119a3f073fa0"
      },
      "source": [
        "df1 = df_c.play_count[df_c.play_count>df_c.play_count.max()-10].values[0]\r\n",
        "print('- How much days the most obsessed user can be the fan of a unique song: {:.1f}'.format((df1*3.5)/60/24))\r\n",
        "display(df_s[df_s.song_id.isin(\r\n",
        "                  df_c[df_c.play_count>df_c.play_count.max()-10].song_id.values)])"
      ],
      "execution_count": null,
      "outputs": [
        {
          "output_type": "stream",
          "text": [
            "- How much days the most obsessed user can be the fan of a unique song: 5.4\n"
          ],
          "name": "stdout"
        },
        {
          "output_type": "display_data",
          "data": {
            "text/html": [
              "<div>\n",
              "<style scoped>\n",
              "    .dataframe tbody tr th:only-of-type {\n",
              "        vertical-align: middle;\n",
              "    }\n",
              "\n",
              "    .dataframe tbody tr th {\n",
              "        vertical-align: top;\n",
              "    }\n",
              "\n",
              "    .dataframe thead th {\n",
              "        text-align: right;\n",
              "    }\n",
              "</style>\n",
              "<table border=\"1\" class=\"dataframe\">\n",
              "  <thead>\n",
              "    <tr style=\"text-align: right;\">\n",
              "      <th></th>\n",
              "      <th>song_id</th>\n",
              "      <th>title</th>\n",
              "      <th>release</th>\n",
              "      <th>artist_name</th>\n",
              "      <th>year</th>\n",
              "    </tr>\n",
              "  </thead>\n",
              "  <tbody>\n",
              "    <tr>\n",
              "      <th>567848</th>\n",
              "      <td>SOFCGSE12AF72A674F</td>\n",
              "      <td>Starshine</td>\n",
              "      <td>Gorillaz</td>\n",
              "      <td>Gorillaz</td>\n",
              "      <td>2000</td>\n",
              "    </tr>\n",
              "  </tbody>\n",
              "</table>\n",
              "</div>"
            ],
            "text/plain": [
              "                   song_id      title   release artist_name  year\n",
              "567848  SOFCGSE12AF72A674F  Starshine  Gorillaz    Gorillaz  2000"
            ]
          },
          "metadata": {
            "tags": []
          }
        }
      ]
    },
    {
      "cell_type": "code",
      "metadata": {
        "colab": {
          "base_uri": "https://localhost:8080/",
          "height": 92
        },
        "id": "Tjx-0g0XOWdf",
        "outputId": "34519889-3f22-4776-efb9-80ed8089b82e"
      },
      "source": [
        " df2 = df_c.play_count[df_c.play_count>df_c.play_count.max()-1500].values[1]\r\n",
        "print('- How much days the second df2 user can be the fan of a unique song: {:.1f}'.format((df2*3)/60/24))\r\n",
        "display(df_s[df_s.song_id.isin(df_c[df_c.play_count==920].song_id.values)])"
      ],
      "execution_count": null,
      "outputs": [
        {
          "output_type": "stream",
          "text": [
            "- How much days the second df2 user can be the fan of a unique song: 1.9\n"
          ],
          "name": "stdout"
        },
        {
          "output_type": "display_data",
          "data": {
            "text/html": [
              "<div>\n",
              "<style scoped>\n",
              "    .dataframe tbody tr th:only-of-type {\n",
              "        vertical-align: middle;\n",
              "    }\n",
              "\n",
              "    .dataframe tbody tr th {\n",
              "        vertical-align: top;\n",
              "    }\n",
              "\n",
              "    .dataframe thead th {\n",
              "        text-align: right;\n",
              "    }\n",
              "</style>\n",
              "<table border=\"1\" class=\"dataframe\">\n",
              "  <thead>\n",
              "    <tr style=\"text-align: right;\">\n",
              "      <th></th>\n",
              "      <th>song_id</th>\n",
              "      <th>title</th>\n",
              "      <th>release</th>\n",
              "      <th>artist_name</th>\n",
              "      <th>year</th>\n",
              "    </tr>\n",
              "  </thead>\n",
              "  <tbody>\n",
              "    <tr>\n",
              "      <th>927747</th>\n",
              "      <td>SOUAGPQ12A8AE47B3A</td>\n",
              "      <td>Crack Under Pressure</td>\n",
              "      <td>Stress related / Live and learn</td>\n",
              "      <td>Righteous Pigs</td>\n",
              "      <td>1998</td>\n",
              "    </tr>\n",
              "  </tbody>\n",
              "</table>\n",
              "</div>"
            ],
            "text/plain": [
              "                   song_id                 title  ...     artist_name  year\n",
              "927747  SOUAGPQ12A8AE47B3A  Crack Under Pressure  ...  Righteous Pigs  1998\n",
              "\n",
              "[1 rows x 5 columns]"
            ]
          },
          "metadata": {
            "tags": []
          }
        }
      ]
    },
    {
      "cell_type": "code",
      "metadata": {
        "colab": {
          "base_uri": "https://localhost:8080/",
          "height": 718
        },
        "id": "CKl8Y3SgUFmJ",
        "outputId": "07ac8634-15f9-49a5-f0eb-5e38b0bed66d"
      },
      "source": [
        "chart = plt.figure(figsize=(50, 25))\r\n",
        "d = chart.add_subplot(221)\r\n",
        "popular_songs = songs_count[['title','play_count']].groupby('title').sum().\\\r\n",
        "                sort_values('play_count', ascending=False).head(20).sort_values('play_count')\r\n",
        "popular_songs.plot(kind='barh', title='Top 20 Most Popular Songs', legend=False, ax=d, color = 'red')\r\n",
        "plt.xticks(rotation='vertical')\r\n",
        "plt.ylabel('Item count')"
      ],
      "execution_count": null,
      "outputs": [
        {
          "output_type": "execute_result",
          "data": {
            "text/plain": [
              "Text(0, 0.5, 'Item count')"
            ]
          },
          "metadata": {
            "tags": []
          },
          "execution_count": 31
        },
        {
          "output_type": "display_data",
          "data": {
            "image/png": "[encoded data removed]",
            "text/plain": [
              "<Figure size 3600x1800 with 1 Axes>"
            ]
          },
          "metadata": {
            "tags": [],
            "needs_background": "light"
          }
        }
      ]
    },
    {
      "cell_type": "code",
      "metadata": {
        "colab": {
          "base_uri": "https://localhost:8080/",
          "height": 718
        },
        "id": "aCUVr0nuWRxL",
        "outputId": "54fa6c07-966a-4fe1-8289-af73d0378753"
      },
      "source": [
        "chart = plt.figure(figsize=(50, 25))\r\n",
        "d = chart.add_subplot(221)\r\n",
        "popular_release = songs_count[['release','play_count']].groupby('release').sum().\\\r\n",
        "                sort_values('play_count', ascending=False).head(20).sort_values('play_count')\r\n",
        "popular_release.plot(kind='barh', title='Top 20 Most Popular Releases', legend=False, ax=d, color = 'blue')\r\n",
        "plt.xticks(rotation='vertical')\r\n",
        "plt.ylabel('Item count')"
      ],
      "execution_count": null,
      "outputs": [
        {
          "output_type": "execute_result",
          "data": {
            "text/plain": [
              "Text(0, 0.5, 'Item count')"
            ]
          },
          "metadata": {
            "tags": []
          },
          "execution_count": 32
        },
        {
          "output_type": "display_data",
          "data": {
            "image/png": "[encoded data removed]",
            "text/plain": [
              "<Figure size 3600x1800 with 1 Axes>"
            ]
          },
          "metadata": {
            "tags": [],
            "needs_background": "light"
          }
        }
      ]
    },
    {
      "cell_type": "code",
      "metadata": {
        "colab": {
          "base_uri": "https://localhost:8080/",
          "height": 718
        },
        "id": "6HzyrzMFar1q",
        "outputId": "f11b03b2-35aa-436c-a4c9-01b23c9a79f4"
      },
      "source": [
        "chart = plt.figure(figsize=(50, 25))\r\n",
        "d = chart.add_subplot(221)\r\n",
        "popular_artist_name = songs_count[['artist_name','play_count']].groupby('artist_name').sum().\\\r\n",
        "                sort_values('play_count', ascending=False).head(20).sort_values('play_count')\r\n",
        "popular_artist_name.plot(kind='barh', title='Top 20 Most Popular Artist', legend=False, ax=d, color = 'yellow')\r\n",
        "plt.xticks(rotation='vertical')\r\n",
        "plt.ylabel('Item count')"
      ],
      "execution_count": null,
      "outputs": [
        {
          "output_type": "execute_result",
          "data": {
            "text/plain": [
              "Text(0, 0.5, 'Item count')"
            ]
          },
          "metadata": {
            "tags": []
          },
          "execution_count": 33
        },
        {
          "output_type": "display_data",
          "data": {
            "image/png": "[encoded data removed]",
            "text/plain": [
              "<Figure size 3600x1800 with 1 Axes>"
            ]
          },
          "metadata": {
            "tags": [],
            "needs_background": "light"
          }
        }
      ]
    },
    {
      "cell_type": "code",
      "metadata": {
        "id": "ksWkEgYWIErl"
      },
      "source": [
        "user_id_song_count_distribution = songs_count[['user_id','title']].groupby('user_id').count().\\\r\n",
        "                                reset_index().sort_values(by='title',ascending = False)\r\n",
        "\r\n",
        "def QQ_plot(data, measure):\r\n",
        "    fig = plt.figure(figsize=(20,7))\r\n",
        "\r\n",
        "    #Get the fitted parameters used by the function\r\n",
        "    (mu, sigma) = norm.fit(data)\r\n",
        "\r\n",
        "    sns.set_color_codes()\r\n",
        "    #ax = sns.distplot(x, color=\"y\")  \r\n",
        "    #Kernel Density plot\r\n",
        "    fig1 = fig.add_subplot(121)\r\n",
        "    sns.distplot(data, fit=norm,color=\"y\")\r\n",
        "    fig1.set_title(measure + ' Distribution ( mu = {:.2f} and sigma = {:.2f} )'.format(mu, sigma), loc='center')\r\n",
        "    fig1.set_xlabel(measure)\r\n",
        "    fig1.set_ylabel('Frequency')\r\n",
        "\r\n",
        "    #QQ plot\r\n",
        "    fig2 = fig.add_subplot(122)\r\n",
        "    res = probplot(data, plot=fig2)\r\n",
        "    fig2.set_title(measure + ' Probability Plot (skewness: {:.6f} and kurtosis: {:.6f} )'.format(data.skew(), data.kurt()), loc='center')\r\n",
        "\r\n",
        "    plt.tight_layout()\r\n",
        "    plt.show()\r\n"
      ],
      "execution_count": null,
      "outputs": []
    },
    {
      "cell_type": "code",
      "metadata": {
        "colab": {
          "base_uri": "https://localhost:8080/",
          "height": 600
        },
        "id": "UEGHcjhFiqv4",
        "outputId": "479d8d75-50c7-4e03-9603-abbadcfd4011"
      },
      "source": [
        "\r\n",
        "QQ_plot(user_id_song_count_distribution.title, 'Song Title by User')\r\n",
        "user_id_song_count_distribution.title.describe().reset_index().T   "
      ],
      "execution_count": null,
      "outputs": [
        {
          "output_type": "display_data",
          "data": {
            "image/png": "[encoded data removed]",
            "text/plain": [
              "<Figure size 1440x504 with 2 Axes>"
            ]
          },
          "metadata": {
            "tags": [],
            "needs_background": "light"
          }
        },
        {
          "output_type": "execute_result",
          "data": {
            "text/html": [
              "<div>\n",
              "<style scoped>\n",
              "    .dataframe tbody tr th:only-of-type {\n",
              "        vertical-align: middle;\n",
              "    }\n",
              "\n",
              "    .dataframe tbody tr th {\n",
              "        vertical-align: top;\n",
              "    }\n",
              "\n",
              "    .dataframe thead th {\n",
              "        text-align: right;\n",
              "    }\n",
              "</style>\n",
              "<table border=\"1\" class=\"dataframe\">\n",
              "  <thead>\n",
              "    <tr style=\"text-align: right;\">\n",
              "      <th></th>\n",
              "      <th>0</th>\n",
              "      <th>1</th>\n",
              "      <th>2</th>\n",
              "      <th>3</th>\n",
              "      <th>4</th>\n",
              "      <th>5</th>\n",
              "      <th>6</th>\n",
              "      <th>7</th>\n",
              "    </tr>\n",
              "  </thead>\n",
              "  <tbody>\n",
              "    <tr>\n",
              "      <th>index</th>\n",
              "      <td>count</td>\n",
              "      <td>mean</td>\n",
              "      <td>std</td>\n",
              "      <td>min</td>\n",
              "      <td>25%</td>\n",
              "      <td>50%</td>\n",
              "      <td>75%</td>\n",
              "      <td>max</td>\n",
              "    </tr>\n",
              "    <tr>\n",
              "      <th>title</th>\n",
              "      <td>76353</td>\n",
              "      <td>25.0005</td>\n",
              "      <td>30.1483</td>\n",
              "      <td>0</td>\n",
              "      <td>9</td>\n",
              "      <td>15</td>\n",
              "      <td>30</td>\n",
              "      <td>693</td>\n",
              "    </tr>\n",
              "  </tbody>\n",
              "</table>\n",
              "</div>"
            ],
            "text/plain": [
              "           0        1        2    3    4    5    6    7\n",
              "index  count     mean      std  min  25%  50%  75%  max\n",
              "title  76353  25.0005  30.1483    0    9   15   30  693"
            ]
          },
          "metadata": {
            "tags": []
          },
          "execution_count": 35
        }
      ]
    },
    {
      "cell_type": "code",
      "metadata": {
        "id": "0jh8_KfNipkL"
      },
      "source": [
        ""
      ],
      "execution_count": null,
      "outputs": []
    },
    {
      "cell_type": "code",
      "metadata": {
        "id": "1850ETSfkTlq"
      },
      "source": [
        "def create_popularity_recommendation(train_data, user_id, item_id, n=10):\r\n",
        "\r\n",
        "    train_data_grouped = train_data.groupby([item_id]).agg({user_id: 'count'}).reset_index()\r\n",
        "    train_data_grouped.rename(columns = {user_id: 'score'},inplace=True)\r\n",
        "    \r\n",
        "    train_data_sort = train_data_grouped.sort_values(['score', item_id], ascending = [0,1])\r\n",
        "    \r\n",
        "    train_data_sort['Rank'] = train_data_sort.score.rank(ascending=0, method='first')\r\n",
        "        \r\n",
        "    popularity_recommendations = train_data_sort.head(n)\r\n",
        "    return popularity_recommendations"
      ],
      "execution_count": null,
      "outputs": []
    },
    {
      "cell_type": "code",
      "metadata": {
        "colab": {
          "base_uri": "https://localhost:8080/",
          "height": 478
        },
        "id": "fNphIT62YBvV",
        "outputId": "3045e386-4e71-4a68-e8c9-45d96b97e28c"
      },
      "source": [
        "recommendations = create_popularity_recommendation(songs_count,'user_id','title', 15)\r\n",
        "display(recommendations)"
      ],
      "execution_count": null,
      "outputs": [
        {
          "output_type": "display_data",
          "data": {
            "text/html": [
              "<div>\n",
              "<style scoped>\n",
              "    .dataframe tbody tr th:only-of-type {\n",
              "        vertical-align: middle;\n",
              "    }\n",
              "\n",
              "    .dataframe tbody tr th {\n",
              "        vertical-align: top;\n",
              "    }\n",
              "\n",
              "    .dataframe thead th {\n",
              "        text-align: right;\n",
              "    }\n",
              "</style>\n",
              "<table border=\"1\" class=\"dataframe\">\n",
              "  <thead>\n",
              "    <tr style=\"text-align: right;\">\n",
              "      <th></th>\n",
              "      <th>title</th>\n",
              "      <th>score</th>\n",
              "      <th>Rank</th>\n",
              "    </tr>\n",
              "  </thead>\n",
              "  <tbody>\n",
              "    <tr>\n",
              "      <th>6632</th>\n",
              "      <td>Sehr kosmisch</td>\n",
              "      <td>8277</td>\n",
              "      <td>1.0</td>\n",
              "    </tr>\n",
              "    <tr>\n",
              "      <th>8468</th>\n",
              "      <td>Undo</td>\n",
              "      <td>7032</td>\n",
              "      <td>2.0</td>\n",
              "    </tr>\n",
              "    <tr>\n",
              "      <th>1893</th>\n",
              "      <td>Dog Days Are Over (Radio Edit)</td>\n",
              "      <td>6949</td>\n",
              "      <td>3.0</td>\n",
              "    </tr>\n",
              "    <tr>\n",
              "      <th>9221</th>\n",
              "      <td>You're The One</td>\n",
              "      <td>6729</td>\n",
              "      <td>4.0</td>\n",
              "    </tr>\n",
              "    <tr>\n",
              "      <th>6307</th>\n",
              "      <td>Revelry</td>\n",
              "      <td>6145</td>\n",
              "      <td>5.0</td>\n",
              "    </tr>\n",
              "    <tr>\n",
              "      <th>6621</th>\n",
              "      <td>Secrets</td>\n",
              "      <td>5841</td>\n",
              "      <td>6.0</td>\n",
              "    </tr>\n",
              "    <tr>\n",
              "      <th>3327</th>\n",
              "      <td>Horn Concerto No.  in E flat K: II. Romance (A...</td>\n",
              "      <td>5385</td>\n",
              "      <td>7.0</td>\n",
              "    </tr>\n",
              "    <tr>\n",
              "      <th>2508</th>\n",
              "      <td>Fireflies</td>\n",
              "      <td>4795</td>\n",
              "      <td>8.0</td>\n",
              "    </tr>\n",
              "    <tr>\n",
              "      <th>3216</th>\n",
              "      <td>Hey_ Soul Sister</td>\n",
              "      <td>4758</td>\n",
              "      <td>9.0</td>\n",
              "    </tr>\n",
              "    <tr>\n",
              "      <th>8243</th>\n",
              "      <td>Tive Sim</td>\n",
              "      <td>4548</td>\n",
              "      <td>10.0</td>\n",
              "    </tr>\n",
              "    <tr>\n",
              "      <th>5547</th>\n",
              "      <td>OMG</td>\n",
              "      <td>3947</td>\n",
              "      <td>11.0</td>\n",
              "    </tr>\n",
              "    <tr>\n",
              "      <th>2045</th>\n",
              "      <td>Drop The World</td>\n",
              "      <td>3879</td>\n",
              "      <td>12.0</td>\n",
              "    </tr>\n",
              "    <tr>\n",
              "      <th>4850</th>\n",
              "      <td>Marry Me</td>\n",
              "      <td>3578</td>\n",
              "      <td>13.0</td>\n",
              "    </tr>\n",
              "    <tr>\n",
              "      <th>1211</th>\n",
              "      <td>Canada</td>\n",
              "      <td>3526</td>\n",
              "      <td>14.0</td>\n",
              "    </tr>\n",
              "    <tr>\n",
              "      <th>1262</th>\n",
              "      <td>Catch You Baby (Steve Pitron  Max Sanna Radio ...</td>\n",
              "      <td>3511</td>\n",
              "      <td>15.0</td>\n",
              "    </tr>\n",
              "  </tbody>\n",
              "</table>\n",
              "</div>"
            ],
            "text/plain": [
              "                                                  title  score  Rank\n",
              "6632                                      Sehr kosmisch   8277   1.0\n",
              "8468                                               Undo   7032   2.0\n",
              "1893                     Dog Days Are Over (Radio Edit)   6949   3.0\n",
              "9221                                     You're The One   6729   4.0\n",
              "6307                                            Revelry   6145   5.0\n",
              "6621                                            Secrets   5841   6.0\n",
              "3327  Horn Concerto No.  in E flat K: II. Romance (A...   5385   7.0\n",
              "2508                                          Fireflies   4795   8.0\n",
              "3216                                   Hey_ Soul Sister   4758   9.0\n",
              "8243                                           Tive Sim   4548  10.0\n",
              "5547                                                OMG   3947  11.0\n",
              "2045                                     Drop The World   3879  12.0\n",
              "4850                                           Marry Me   3578  13.0\n",
              "1211                                             Canada   3526  14.0\n",
              "1262  Catch You Baby (Steve Pitron  Max Sanna Radio ...   3511  15.0"
            ]
          },
          "metadata": {
            "tags": []
          }
        }
      ]
    },
    {
      "cell_type": "code",
      "metadata": {
        "colab": {
          "base_uri": "https://localhost:8080/",
          "height": 335
        },
        "id": "6j4-SYx2k3mB",
        "outputId": "09af5f9a-60ad-45d1-8cb7-7baa2bf4c2fd"
      },
      "source": [
        "recommendations = create_popularity_recommendation(songs_count,'user_id','artist_name', 10)\r\n",
        "display(recommendations)"
      ],
      "execution_count": null,
      "outputs": [
        {
          "output_type": "display_data",
          "data": {
            "text/html": [
              "<div>\n",
              "<style scoped>\n",
              "    .dataframe tbody tr th:only-of-type {\n",
              "        vertical-align: middle;\n",
              "    }\n",
              "\n",
              "    .dataframe tbody tr th {\n",
              "        vertical-align: top;\n",
              "    }\n",
              "\n",
              "    .dataframe thead th {\n",
              "        text-align: right;\n",
              "    }\n",
              "</style>\n",
              "<table border=\"1\" class=\"dataframe\">\n",
              "  <thead>\n",
              "    <tr style=\"text-align: right;\">\n",
              "      <th></th>\n",
              "      <th>artist_name</th>\n",
              "      <th>score</th>\n",
              "      <th>Rank</th>\n",
              "    </tr>\n",
              "  </thead>\n",
              "  <tbody>\n",
              "    <tr>\n",
              "      <th>633</th>\n",
              "      <td>Coldplay</td>\n",
              "      <td>26272</td>\n",
              "      <td>1.0</td>\n",
              "    </tr>\n",
              "    <tr>\n",
              "      <th>2822</th>\n",
              "      <td>The Black Keys</td>\n",
              "      <td>19862</td>\n",
              "      <td>2.0</td>\n",
              "    </tr>\n",
              "    <tr>\n",
              "      <th>1079</th>\n",
              "      <td>Florence + The Machine</td>\n",
              "      <td>18112</td>\n",
              "      <td>3.0</td>\n",
              "    </tr>\n",
              "    <tr>\n",
              "      <th>1342</th>\n",
              "      <td>Jack Johnson</td>\n",
              "      <td>16012</td>\n",
              "      <td>4.0</td>\n",
              "    </tr>\n",
              "    <tr>\n",
              "      <th>2918</th>\n",
              "      <td>The Killers</td>\n",
              "      <td>15087</td>\n",
              "      <td>5.0</td>\n",
              "    </tr>\n",
              "    <tr>\n",
              "      <th>720</th>\n",
              "      <td>Daft Punk</td>\n",
              "      <td>14574</td>\n",
              "      <td>6.0</td>\n",
              "    </tr>\n",
              "    <tr>\n",
              "      <th>2347</th>\n",
              "      <td>Radiohead</td>\n",
              "      <td>13827</td>\n",
              "      <td>7.0</td>\n",
              "    </tr>\n",
              "    <tr>\n",
              "      <th>3146</th>\n",
              "      <td>Train</td>\n",
              "      <td>12535</td>\n",
              "      <td>8.0</td>\n",
              "    </tr>\n",
              "    <tr>\n",
              "      <th>2177</th>\n",
              "      <td>OneRepublic</td>\n",
              "      <td>11476</td>\n",
              "      <td>9.0</td>\n",
              "    </tr>\n",
              "    <tr>\n",
              "      <th>1620</th>\n",
              "      <td>Kings Of Leon</td>\n",
              "      <td>11408</td>\n",
              "      <td>10.0</td>\n",
              "    </tr>\n",
              "  </tbody>\n",
              "</table>\n",
              "</div>"
            ],
            "text/plain": [
              "                 artist_name  score  Rank\n",
              "633                 Coldplay  26272   1.0\n",
              "2822          The Black Keys  19862   2.0\n",
              "1079  Florence + The Machine  18112   3.0\n",
              "1342            Jack Johnson  16012   4.0\n",
              "2918             The Killers  15087   5.0\n",
              "720                Daft Punk  14574   6.0\n",
              "2347               Radiohead  13827   7.0\n",
              "3146                   Train  12535   8.0\n",
              "2177             OneRepublic  11476   9.0\n",
              "1620           Kings Of Leon  11408  10.0"
            ]
          },
          "metadata": {
            "tags": []
          }
        }
      ]
    },
    {
      "cell_type": "code",
      "metadata": {
        "id": "CTLDV2qjKgp6"
      },
      "source": [
        "\r\n",
        "class item_similarity_recommender_py():\r\n",
        "    def __init__(self):\r\n",
        "        self.training_data = None\r\n",
        "        self.user_id = None\r\n",
        "        self.id_item = None\r\n",
        "        self.cooccurence_matrix = None\r\n",
        "        self.songs_dictionary  = None\r\n",
        "        self.rev_songs_dictionary = None\r\n",
        "        self.item_similarity_recommendations = None\r\n",
        "        \r\n",
        "  \r\n",
        "    def get_user_item(self, user):\r\n",
        "        user_data = self.training_data[self.training_data[self.user_id] == user]\r\n",
        "        user_items = list(user_data[self.id_item].unique())\r\n",
        "        \r\n",
        "        return user_items\r\n",
        "\r\n",
        "    def get_items_user(self, item):\r\n",
        "        item_data = self.training_data[self.training_data[self.id_item] == item]\r\n",
        "        item_users = set(item_data[self.user_id].unique())\r\n",
        "            \r\n",
        "        return item_users\r\n",
        "        \r\n",
        "\r\n",
        "    def get_all_items_training_data(self):\r\n",
        "        all_items = list(self.training_data[self.id_item].unique())\r\n",
        "            \r\n",
        "        return all_items\r\n",
        " \r\n",
        "    def construct_cooccurence_matrix(self, users, songs):\r\n",
        "            \r\n",
        " \r\n",
        " \r\n",
        "        users_users = []        \r\n",
        "        for i in range(0, len(users)):\r\n",
        "            users_users.append(self.get_items_user(users[i]))\r\n",
        "            \r\n",
        "    \r\n",
        "\t\r\n",
        "        cooccurence_matrix = np.matrix(np.zeros(shape=(len(users), len(songs))), float)\r\n",
        "           \r\n",
        "  \r\n",
        "        for i in range(0,len(songs)):\r\n",
        "           \r\n",
        "            songs_i_data = self.training_data[self.training_data[self.id_item] == songs[i]]\r\n",
        "            users_i = set(songs_i_data[self.user_id].unique())\r\n",
        "            \r\n",
        "            for j in range(0,len(users)):       \r\n",
        "                    \r\n",
        "                users_j = users_users[j]\r\n",
        "                    \r\n",
        "                users_intersection = users_i.intersection(users_j)\r\n",
        "                \r\n",
        "                if len(users_intersection) != 0:\r\n",
        "                    #Calculate union of listeners of songs i and j\r\n",
        "                    users_union = users_i.union(users_j)\r\n",
        "                    \r\n",
        "                    cooccurence_matrix[j,i] = float(len(users_intersection))/float(len(users_union))\r\n",
        "                else:\r\n",
        "                    cooccurence_matrix[j,i] = 0\r\n",
        "                    \r\n",
        "        \r\n",
        "        return cooccurence_matrix\r\n",
        "\r\n",
        "    \r\n",
        "  \r\n",
        "    def generate_top_recommendations(self, user, cooccurence_matrix, songs, users):\r\n",
        "        print(\"Non zero values in cooccurence_matrix :%d\" % np.count_nonzero(cooccurence_matrix))\r\n",
        "        \r\n",
        "         \r\n",
        "        user_sim_scores = cooccurence_matrix.sum(axis=0)/float(cooccurence_matrix.shape[0])\r\n",
        "        user_sim_scores = np.array(user_sim_scores)[0].tolist()\r\n",
        " \r\n",
        "        \r\n",
        "        sort_index = sorted(((e,i) for i,e in enumerate(list(user_sim_scores))), reverse=True)\r\n",
        "    \r\n",
        "       \r\n",
        "        columns = ['user_id', 'song', 'score', 'rank']\r\n",
        "      \r\n",
        "        df = pd.DataFrame(columns=columns)\r\n",
        "         \r\n",
        "       \r\n",
        "        rank = 1 \r\n",
        "        for i in range(0,len(sort_index)):\r\n",
        "            \r\n",
        "      \r\n",
        "\r\n",
        "            #if  np.isnan(sort_index[i][0]) and songs[sort_index[i][1]] not in users and rank <= 10:\r\n",
        "                 df.loc[len(df)]=[user,songs[sort_index[i][1]],sort_index[i][0],rank]\r\n",
        "                 rank = rank+1\r\n",
        "              #  print('*')\r\n",
        "        \r\n",
        "         \r\n",
        "        if df.shape[0] == 0:\r\n",
        "            print('the df shape', df.shape[0])\r\n",
        "            print(\"The current user has no songs for training the item similarity based recommendation model.\")\r\n",
        "            return -1\r\n",
        "        else:\r\n",
        "            return df.head(10)\r\n",
        " \r\n",
        "     \r\n",
        "    def create(self, training_data, user_id, id_item):\r\n",
        "        self.training_data = training_data\r\n",
        "        self.user_id = user_id\r\n",
        "        self.id_item = id_item\r\n",
        "\r\n",
        "   \r\n",
        "    def recommend(self, user):\r\n",
        "        \r\n",
        "         \r\n",
        "        users = self.get_user_item(user)    \r\n",
        "            \r\n",
        "        print(\"No. of unique songs for the user: %d\" % len(users))\r\n",
        "        \r\n",
        "        \r\n",
        "        songs = self.get_all_items_training_data()\r\n",
        "        \r\n",
        "        print(\"no. of unique songs in the training set: %d\" % len(songs))\r\n",
        "         \r\n",
        "        \r\n",
        "        cooccurence_matrix = self.construct_cooccurence_matrix(users, songs)\r\n",
        "        \r\n",
        "        \r\n",
        "        df_recommendations = self.generate_top_recommendations(user, cooccurence_matrix, songs, users)\r\n",
        "                \r\n",
        "        return df_recommendations\r\n",
        "    \r\n",
        "    def get_similar_items(self, item_list):\r\n",
        "        \r\n",
        "        users = item_list\r\n",
        "        \r\n",
        "        \r\n",
        "        songs = self.get_all_items_training_data()\r\n",
        "        \r\n",
        "        print(\"no. of unique songs in the training set: %d\" % len(songs))\r\n",
        "         \r\n",
        "        \r\n",
        "        cooccurence_matrix = self.construct_cooccurence_matrix(users, songs)\r\n",
        "        \r\n",
        "       \r\n",
        "        user = \"\"\r\n",
        "        df_recommendations = self.generate_top_recommendations(user, cooccurence_matrix, songs, users)\r\n",
        "         \r\n",
        "        return df_recommendations"
      ],
      "execution_count": null,
      "outputs": []
    },
    {
      "cell_type": "code",
      "metadata": {
        "id": "BV_j1oQtDitt"
      },
      "source": [
        "songs_count = songs_count.dropna(how='any',axis=0)"
      ],
      "execution_count": null,
      "outputs": []
    },
    {
      "cell_type": "code",
      "metadata": {
        "colab": {
          "base_uri": "https://localhost:8080/",
          "height": 207
        },
        "id": "r5cpKIMQnX-q",
        "outputId": "b6cdb66d-2f64-4325-a16a-50651c4fd560"
      },
      "source": [
        "paly_counts_total = sum(songs_count.play_count)\r\n",
        "songs_play_counts = songs_count[['song_id', 'play_count']].groupby('song_id').sum().\\\r\n",
        "             sort_values(by='play_count',ascending=False).head(5000)\r\n",
        "\r\n",
        "print('5,000 most popular songs represents {:3.2%} of total listen.'.format(float(play_count_songs.sum())/total_play_count))\r\n",
        "\r\n",
        "subset_of_songs = list(play_count_songs.index[:5000])\r\n",
        "subset_of_user = list(songs_count.loc[songs_count.song_id.isin(song_subset), 'user_id'].unique())\r\n",
        "user_song_list_count_sub = songs_count[songs_count.song_id.isin(song_subset)]\r\n",
        "user_song_list_count_sub.head()"
      ],
      "execution_count": null,
      "outputs": [
        {
          "output_type": "stream",
          "text": [
            "5,000 most popular songs represents 82.60% of total listen.\n"
          ],
          "name": "stdout"
        },
        {
          "output_type": "execute_result",
          "data": {
            "text/html": [
              "<div>\n",
              "<style scoped>\n",
              "    .dataframe tbody tr th:only-of-type {\n",
              "        vertical-align: middle;\n",
              "    }\n",
              "\n",
              "    .dataframe tbody tr th {\n",
              "        vertical-align: top;\n",
              "    }\n",
              "\n",
              "    .dataframe thead th {\n",
              "        text-align: right;\n",
              "    }\n",
              "</style>\n",
              "<table border=\"1\" class=\"dataframe\">\n",
              "  <thead>\n",
              "    <tr style=\"text-align: right;\">\n",
              "      <th></th>\n",
              "      <th>counter</th>\n",
              "      <th>user_id</th>\n",
              "      <th>song_id</th>\n",
              "      <th>play_count</th>\n",
              "      <th>title</th>\n",
              "      <th>release</th>\n",
              "      <th>artist_name</th>\n",
              "      <th>year</th>\n",
              "    </tr>\n",
              "  </thead>\n",
              "  <tbody>\n",
              "    <tr>\n",
              "      <th>0</th>\n",
              "      <td>0.0</td>\n",
              "      <td>b80344d063b5ccb3212f76538f3d9e43d87dca9e</td>\n",
              "      <td>SOAKIMP12A8C130995</td>\n",
              "      <td>1</td>\n",
              "      <td>The Cove</td>\n",
              "      <td>Thicker Than Water</td>\n",
              "      <td>Jack Johnson</td>\n",
              "      <td>0.0</td>\n",
              "    </tr>\n",
              "    <tr>\n",
              "      <th>1</th>\n",
              "      <td>1.0</td>\n",
              "      <td>b80344d063b5ccb3212f76538f3d9e43d87dca9e</td>\n",
              "      <td>SOBBMDR12A8C13253B</td>\n",
              "      <td>2</td>\n",
              "      <td>Entre Dos Aguas</td>\n",
              "      <td>Flamenco Para Niños</td>\n",
              "      <td>Paco De Lucia</td>\n",
              "      <td>1976.0</td>\n",
              "    </tr>\n",
              "    <tr>\n",
              "      <th>3</th>\n",
              "      <td>3.0</td>\n",
              "      <td>b80344d063b5ccb3212f76538f3d9e43d87dca9e</td>\n",
              "      <td>SOBYHAJ12A6701BF1D</td>\n",
              "      <td>1</td>\n",
              "      <td>Constellations</td>\n",
              "      <td>In Between Dreams</td>\n",
              "      <td>Jack Johnson</td>\n",
              "      <td>2005.0</td>\n",
              "    </tr>\n",
              "    <tr>\n",
              "      <th>4</th>\n",
              "      <td>4.0</td>\n",
              "      <td>b80344d063b5ccb3212f76538f3d9e43d87dca9e</td>\n",
              "      <td>SODACBL12A8C13C273</td>\n",
              "      <td>1</td>\n",
              "      <td>Learn To Fly</td>\n",
              "      <td>There Is Nothing Left To Lose</td>\n",
              "      <td>Foo Fighters</td>\n",
              "      <td>1999.0</td>\n",
              "    </tr>\n",
              "    <tr>\n",
              "      <th>6</th>\n",
              "      <td>6.0</td>\n",
              "      <td>b80344d063b5ccb3212f76538f3d9e43d87dca9e</td>\n",
              "      <td>SODXRTY12AB0180F3B</td>\n",
              "      <td>1</td>\n",
              "      <td>Paper Gangsta</td>\n",
              "      <td>The Fame Monster</td>\n",
              "      <td>Lady GaGa</td>\n",
              "      <td>2008.0</td>\n",
              "    </tr>\n",
              "  </tbody>\n",
              "</table>\n",
              "</div>"
            ],
            "text/plain": [
              "   counter                                   user_id  ...    artist_name    year\n",
              "0      0.0  b80344d063b5ccb3212f76538f3d9e43d87dca9e  ...   Jack Johnson     0.0\n",
              "1      1.0  b80344d063b5ccb3212f76538f3d9e43d87dca9e  ...  Paco De Lucia  1976.0\n",
              "3      3.0  b80344d063b5ccb3212f76538f3d9e43d87dca9e  ...   Jack Johnson  2005.0\n",
              "4      4.0  b80344d063b5ccb3212f76538f3d9e43d87dca9e  ...   Foo Fighters  1999.0\n",
              "6      6.0  b80344d063b5ccb3212f76538f3d9e43d87dca9e  ...      Lady GaGa  2008.0\n",
              "\n",
              "[5 rows x 8 columns]"
            ]
          },
          "metadata": {
            "tags": []
          },
          "execution_count": 59
        }
      ]
    },
    {
      "cell_type": "code",
      "metadata": {
        "colab": {
          "base_uri": "https://localhost:8080/",
          "height": 383
        },
        "id": "HerSAy-EoAuv",
        "outputId": "04d7bf54-5138-4809-b797-7b071b4aef52"
      },
      "source": [
        "\r\n",
        "model = item_similarity_recommender_py()\r\n",
        "model.create(user_song_list_count_sub, 'user_id', 'title')\r\n",
        "user_id = list(user_song_list_count_sub.user_id)[7]\r\n",
        "\r\n",
        "user_items = model.get_user_item(user_id)\r\n",
        "\r\n",
        "\r\n",
        "model.recommend(user_id)"
      ],
      "execution_count": null,
      "outputs": [
        {
          "output_type": "stream",
          "text": [
            "No. of unique songs for the user: 32\n",
            "no. of unique songs in the training set: 4873\n",
            "Non zero values in cooccurence_matrix :115237\n"
          ],
          "name": "stdout"
        },
        {
          "output_type": "execute_result",
          "data": {
            "text/html": [
              "<div>\n",
              "<style scoped>\n",
              "    .dataframe tbody tr th:only-of-type {\n",
              "        vertical-align: middle;\n",
              "    }\n",
              "\n",
              "    .dataframe tbody tr th {\n",
              "        vertical-align: top;\n",
              "    }\n",
              "\n",
              "    .dataframe thead th {\n",
              "        text-align: right;\n",
              "    }\n",
              "</style>\n",
              "<table border=\"1\" class=\"dataframe\">\n",
              "  <thead>\n",
              "    <tr style=\"text-align: right;\">\n",
              "      <th></th>\n",
              "      <th>user_id</th>\n",
              "      <th>song</th>\n",
              "      <th>score</th>\n",
              "      <th>rank</th>\n",
              "    </tr>\n",
              "  </thead>\n",
              "  <tbody>\n",
              "    <tr>\n",
              "      <th>0</th>\n",
              "      <td>b80344d063b5ccb3212f76538f3d9e43d87dca9e</td>\n",
              "      <td>The Cove</td>\n",
              "      <td>0.062555</td>\n",
              "      <td>1</td>\n",
              "    </tr>\n",
              "    <tr>\n",
              "      <th>1</th>\n",
              "      <td>b80344d063b5ccb3212f76538f3d9e43d87dca9e</td>\n",
              "      <td>Moonshine</td>\n",
              "      <td>0.061915</td>\n",
              "      <td>2</td>\n",
              "    </tr>\n",
              "    <tr>\n",
              "      <th>2</th>\n",
              "      <td>b80344d063b5ccb3212f76538f3d9e43d87dca9e</td>\n",
              "      <td>Ragged Wood</td>\n",
              "      <td>0.061691</td>\n",
              "      <td>3</td>\n",
              "    </tr>\n",
              "    <tr>\n",
              "      <th>3</th>\n",
              "      <td>b80344d063b5ccb3212f76538f3d9e43d87dca9e</td>\n",
              "      <td>He Doesn't Know Why</td>\n",
              "      <td>0.060827</td>\n",
              "      <td>4</td>\n",
              "    </tr>\n",
              "    <tr>\n",
              "      <th>4</th>\n",
              "      <td>b80344d063b5ccb3212f76538f3d9e43d87dca9e</td>\n",
              "      <td>City Love</td>\n",
              "      <td>0.058309</td>\n",
              "      <td>5</td>\n",
              "    </tr>\n",
              "    <tr>\n",
              "      <th>5</th>\n",
              "      <td>b80344d063b5ccb3212f76538f3d9e43d87dca9e</td>\n",
              "      <td>Holes To Heaven</td>\n",
              "      <td>0.057818</td>\n",
              "      <td>6</td>\n",
              "    </tr>\n",
              "    <tr>\n",
              "      <th>6</th>\n",
              "      <td>b80344d063b5ccb3212f76538f3d9e43d87dca9e</td>\n",
              "      <td>Constellations</td>\n",
              "      <td>0.057527</td>\n",
              "      <td>7</td>\n",
              "    </tr>\n",
              "    <tr>\n",
              "      <th>7</th>\n",
              "      <td>b80344d063b5ccb3212f76538f3d9e43d87dca9e</td>\n",
              "      <td>Love Song For No One</td>\n",
              "      <td>0.056400</td>\n",
              "      <td>8</td>\n",
              "    </tr>\n",
              "    <tr>\n",
              "      <th>8</th>\n",
              "      <td>b80344d063b5ccb3212f76538f3d9e43d87dca9e</td>\n",
              "      <td>Neon</td>\n",
              "      <td>0.056099</td>\n",
              "      <td>9</td>\n",
              "    </tr>\n",
              "    <tr>\n",
              "      <th>9</th>\n",
              "      <td>b80344d063b5ccb3212f76538f3d9e43d87dca9e</td>\n",
              "      <td>Clarity</td>\n",
              "      <td>0.055741</td>\n",
              "      <td>10</td>\n",
              "    </tr>\n",
              "  </tbody>\n",
              "</table>\n",
              "</div>"
            ],
            "text/plain": [
              "                                    user_id  ... rank\n",
              "0  b80344d063b5ccb3212f76538f3d9e43d87dca9e  ...    1\n",
              "1  b80344d063b5ccb3212f76538f3d9e43d87dca9e  ...    2\n",
              "2  b80344d063b5ccb3212f76538f3d9e43d87dca9e  ...    3\n",
              "3  b80344d063b5ccb3212f76538f3d9e43d87dca9e  ...    4\n",
              "4  b80344d063b5ccb3212f76538f3d9e43d87dca9e  ...    5\n",
              "5  b80344d063b5ccb3212f76538f3d9e43d87dca9e  ...    6\n",
              "6  b80344d063b5ccb3212f76538f3d9e43d87dca9e  ...    7\n",
              "7  b80344d063b5ccb3212f76538f3d9e43d87dca9e  ...    8\n",
              "8  b80344d063b5ccb3212f76538f3d9e43d87dca9e  ...    9\n",
              "9  b80344d063b5ccb3212f76538f3d9e43d87dca9e  ...   10\n",
              "\n",
              "[10 rows x 4 columns]"
            ]
          },
          "metadata": {
            "tags": []
          },
          "execution_count": 62
        }
      ]
    }
  ]
}